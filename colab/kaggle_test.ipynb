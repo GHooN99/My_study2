{
  "nbformat": 4,
  "nbformat_minor": 0,
  "metadata": {
    "colab": {
      "name": "kaggle_test.ipynb",
      "provenance": [],
      "toc_visible": true,
      "authorship_tag": "ABX9TyNy/t2nRr0BVbFI6f3XBVgt",
      "include_colab_link": true
    },
    "kernelspec": {
      "name": "python3",
      "display_name": "Python 3"
    },
    "accelerator": "GPU"
  },
  "cells": [
    {
      "cell_type": "markdown",
      "metadata": {
        "id": "view-in-github",
        "colab_type": "text"
      },
      "source": [
        "<a href=\"https://colab.research.google.com/github/GHooN99/My_study2/blob/master/colab/kaggle_test.ipynb\" target=\"_parent\"><img src=\"https://colab.research.google.com/assets/colab-badge.svg\" alt=\"Open In Colab\"/></a>"
      ]
    },
    {
      "cell_type": "code",
      "metadata": {
        "id": "lJ1zo2v2VWtM"
      },
      "source": [
        "from google.colab import files\n",
        "files.upload()"
      ],
      "execution_count": null,
      "outputs": []
    },
    {
      "cell_type": "code",
      "metadata": {
        "id": "Rbfc3G4LV47G"
      },
      "source": [
        "!mkdir -p ~/.kaggle\n",
        "!cp kaggle.json ~/.kaggle/\n",
        "!chmod 600 ~/.kaggle/kaggle.json\n"
      ],
      "execution_count": 4,
      "outputs": []
    },
    {
      "cell_type": "code",
      "metadata": {
        "id": "a2Ee5frpWSLx",
        "outputId": "e4cd3f66-ae32-441c-a0db-3ed47f9364d9",
        "colab": {
          "base_uri": "https://localhost:8080/",
          "height": 197
        }
      },
      "source": [
        "!kaggle competitions download -c regression-cabbage-price"
      ],
      "execution_count": 6,
      "outputs": [
        {
          "output_type": "stream",
          "text": [
            "Warning: Looks like you're using an outdated API Version, please consider updating (server 1.5.6 / client 1.5.4)\n",
            "Downloading test_cabbage_price.csv to /content\n",
            "  0% 0.00/187 [00:00<?, ?B/s]\n",
            "100% 187/187 [00:00<00:00, 319kB/s]\n",
            "Downloading submit_sample.csv to /content\n",
            "  0% 0.00/61.0 [00:00<?, ?B/s]\n",
            "100% 61.0/61.0 [00:00<00:00, 57.0kB/s]\n",
            "Downloading train_cabbage_price.csv to /content\n",
            "  0% 0.00/90.9k [00:00<?, ?B/s]\n",
            "100% 90.9k/90.9k [00:00<00:00, 30.5MB/s]\n"
          ],
          "name": "stdout"
        }
      ]
    },
    {
      "cell_type": "code",
      "metadata": {
        "id": "tg-8FZT4WiPR",
        "outputId": "f0da99dc-9c07-43a2-db07-be8b6819d29e",
        "colab": {
          "base_uri": "https://localhost:8080/",
          "height": 53
        }
      },
      "source": [
        "!ls"
      ],
      "execution_count": 7,
      "outputs": [
        {
          "output_type": "stream",
          "text": [
            "'~.'\t       sample_data\t   test_cabbage_price.csv\n",
            " kaggle.json   submit_sample.csv   train_cabbage_price.csv\n"
          ],
          "name": "stdout"
        }
      ]
    },
    {
      "cell_type": "code",
      "metadata": {
        "id": "uZ0jG6BmWwJx"
      },
      "source": [
        "import pandas as pd\n",
        "import tensorflow as tf\n",
        "from matplotlib import pyplot as plt\n",
        "from tensorflow.keras import optimizers\n",
        "from tensorflow.keras.models import Sequential\n",
        "from tensorflow.keras.layers import Dense"
      ],
      "execution_count": 57,
      "outputs": []
    },
    {
      "cell_type": "code",
      "metadata": {
        "id": "YMt6Zoi-XGky",
        "outputId": "e4537561-ca65-4511-b36b-6e344adc5a79",
        "colab": {
          "base_uri": "https://localhost:8080/",
          "height": 359
        }
      },
      "source": [
        "data = pd.read_csv(\"train_cabbage_price.csv\")\n",
        "data.head(10)"
      ],
      "execution_count": 58,
      "outputs": [
        {
          "output_type": "execute_result",
          "data": {
            "text/html": [
              "<div>\n",
              "<style scoped>\n",
              "    .dataframe tbody tr th:only-of-type {\n",
              "        vertical-align: middle;\n",
              "    }\n",
              "\n",
              "    .dataframe tbody tr th {\n",
              "        vertical-align: top;\n",
              "    }\n",
              "\n",
              "    .dataframe thead th {\n",
              "        text-align: right;\n",
              "    }\n",
              "</style>\n",
              "<table border=\"1\" class=\"dataframe\">\n",
              "  <thead>\n",
              "    <tr style=\"text-align: right;\">\n",
              "      <th></th>\n",
              "      <th>year</th>\n",
              "      <th>avgTemp</th>\n",
              "      <th>minTemp</th>\n",
              "      <th>maxTemp</th>\n",
              "      <th>rainFall</th>\n",
              "      <th>avgPrice</th>\n",
              "    </tr>\n",
              "  </thead>\n",
              "  <tbody>\n",
              "    <tr>\n",
              "      <th>0</th>\n",
              "      <td>20100101</td>\n",
              "      <td>-4.9</td>\n",
              "      <td>-11.0</td>\n",
              "      <td>0.9</td>\n",
              "      <td>0.0</td>\n",
              "      <td>2123</td>\n",
              "    </tr>\n",
              "    <tr>\n",
              "      <th>1</th>\n",
              "      <td>20100102</td>\n",
              "      <td>-3.1</td>\n",
              "      <td>-5.5</td>\n",
              "      <td>5.5</td>\n",
              "      <td>0.8</td>\n",
              "      <td>2123</td>\n",
              "    </tr>\n",
              "    <tr>\n",
              "      <th>2</th>\n",
              "      <td>20100103</td>\n",
              "      <td>-2.9</td>\n",
              "      <td>-6.9</td>\n",
              "      <td>1.4</td>\n",
              "      <td>0.0</td>\n",
              "      <td>2123</td>\n",
              "    </tr>\n",
              "    <tr>\n",
              "      <th>3</th>\n",
              "      <td>20100104</td>\n",
              "      <td>-1.8</td>\n",
              "      <td>-5.1</td>\n",
              "      <td>2.2</td>\n",
              "      <td>5.9</td>\n",
              "      <td>2020</td>\n",
              "    </tr>\n",
              "    <tr>\n",
              "      <th>4</th>\n",
              "      <td>20100105</td>\n",
              "      <td>-5.2</td>\n",
              "      <td>-8.7</td>\n",
              "      <td>-1.8</td>\n",
              "      <td>0.7</td>\n",
              "      <td>2060</td>\n",
              "    </tr>\n",
              "    <tr>\n",
              "      <th>5</th>\n",
              "      <td>20100106</td>\n",
              "      <td>-7.3</td>\n",
              "      <td>-11.4</td>\n",
              "      <td>-2.5</td>\n",
              "      <td>0.3</td>\n",
              "      <td>2060</td>\n",
              "    </tr>\n",
              "    <tr>\n",
              "      <th>6</th>\n",
              "      <td>20100107</td>\n",
              "      <td>-6.7</td>\n",
              "      <td>-11.2</td>\n",
              "      <td>-1.2</td>\n",
              "      <td>0.0</td>\n",
              "      <td>2140</td>\n",
              "    </tr>\n",
              "    <tr>\n",
              "      <th>7</th>\n",
              "      <td>20100108</td>\n",
              "      <td>-5.6</td>\n",
              "      <td>-11.4</td>\n",
              "      <td>1.4</td>\n",
              "      <td>0.0</td>\n",
              "      <td>2140</td>\n",
              "    </tr>\n",
              "    <tr>\n",
              "      <th>8</th>\n",
              "      <td>20100109</td>\n",
              "      <td>-3.1</td>\n",
              "      <td>-8.8</td>\n",
              "      <td>1.8</td>\n",
              "      <td>0.1</td>\n",
              "      <td>2140</td>\n",
              "    </tr>\n",
              "    <tr>\n",
              "      <th>9</th>\n",
              "      <td>20100110</td>\n",
              "      <td>-1.3</td>\n",
              "      <td>-5.0</td>\n",
              "      <td>2.8</td>\n",
              "      <td>0.0</td>\n",
              "      <td>2140</td>\n",
              "    </tr>\n",
              "  </tbody>\n",
              "</table>\n",
              "</div>"
            ],
            "text/plain": [
              "       year  avgTemp  minTemp  maxTemp  rainFall  avgPrice\n",
              "0  20100101     -4.9    -11.0      0.9       0.0      2123\n",
              "1  20100102     -3.1     -5.5      5.5       0.8      2123\n",
              "2  20100103     -2.9     -6.9      1.4       0.0      2123\n",
              "3  20100104     -1.8     -5.1      2.2       5.9      2020\n",
              "4  20100105     -5.2     -8.7     -1.8       0.7      2060\n",
              "5  20100106     -7.3    -11.4     -2.5       0.3      2060\n",
              "6  20100107     -6.7    -11.2     -1.2       0.0      2140\n",
              "7  20100108     -5.6    -11.4      1.4       0.0      2140\n",
              "8  20100109     -3.1     -8.8      1.8       0.1      2140\n",
              "9  20100110     -1.3     -5.0      2.8       0.0      2140"
            ]
          },
          "metadata": {
            "tags": []
          },
          "execution_count": 58
        }
      ]
    },
    {
      "cell_type": "code",
      "metadata": {
        "id": "GHRpAoWsXd0Q",
        "outputId": "b668026a-7ada-452a-d624-8fd4ebe31b51",
        "colab": {
          "base_uri": "https://localhost:8080/",
          "height": 419
        }
      },
      "source": [
        "x_data = data.iloc[:,1:-1]\n",
        "y_data = data.iloc[:,-1]"
      ],
      "execution_count": 70,
      "outputs": [
        {
          "output_type": "execute_result",
          "data": {
            "text/html": [
              "<div>\n",
              "<style scoped>\n",
              "    .dataframe tbody tr th:only-of-type {\n",
              "        vertical-align: middle;\n",
              "    }\n",
              "\n",
              "    .dataframe tbody tr th {\n",
              "        vertical-align: top;\n",
              "    }\n",
              "\n",
              "    .dataframe thead th {\n",
              "        text-align: right;\n",
              "    }\n",
              "</style>\n",
              "<table border=\"1\" class=\"dataframe\">\n",
              "  <thead>\n",
              "    <tr style=\"text-align: right;\">\n",
              "      <th></th>\n",
              "      <th>avgTemp</th>\n",
              "      <th>minTemp</th>\n",
              "      <th>maxTemp</th>\n",
              "      <th>rainFall</th>\n",
              "    </tr>\n",
              "  </thead>\n",
              "  <tbody>\n",
              "    <tr>\n",
              "      <th>0</th>\n",
              "      <td>-4.9</td>\n",
              "      <td>-11.0</td>\n",
              "      <td>0.9</td>\n",
              "      <td>0.0</td>\n",
              "    </tr>\n",
              "    <tr>\n",
              "      <th>1</th>\n",
              "      <td>-3.1</td>\n",
              "      <td>-5.5</td>\n",
              "      <td>5.5</td>\n",
              "      <td>0.8</td>\n",
              "    </tr>\n",
              "    <tr>\n",
              "      <th>2</th>\n",
              "      <td>-2.9</td>\n",
              "      <td>-6.9</td>\n",
              "      <td>1.4</td>\n",
              "      <td>0.0</td>\n",
              "    </tr>\n",
              "    <tr>\n",
              "      <th>3</th>\n",
              "      <td>-1.8</td>\n",
              "      <td>-5.1</td>\n",
              "      <td>2.2</td>\n",
              "      <td>5.9</td>\n",
              "    </tr>\n",
              "    <tr>\n",
              "      <th>4</th>\n",
              "      <td>-5.2</td>\n",
              "      <td>-8.7</td>\n",
              "      <td>-1.8</td>\n",
              "      <td>0.7</td>\n",
              "    </tr>\n",
              "    <tr>\n",
              "      <th>...</th>\n",
              "      <td>...</td>\n",
              "      <td>...</td>\n",
              "      <td>...</td>\n",
              "      <td>...</td>\n",
              "    </tr>\n",
              "    <tr>\n",
              "      <th>2917</th>\n",
              "      <td>-3.9</td>\n",
              "      <td>-8.0</td>\n",
              "      <td>0.7</td>\n",
              "      <td>0.0</td>\n",
              "    </tr>\n",
              "    <tr>\n",
              "      <th>2918</th>\n",
              "      <td>-1.5</td>\n",
              "      <td>-6.9</td>\n",
              "      <td>3.7</td>\n",
              "      <td>0.0</td>\n",
              "    </tr>\n",
              "    <tr>\n",
              "      <th>2919</th>\n",
              "      <td>2.9</td>\n",
              "      <td>-2.1</td>\n",
              "      <td>8.0</td>\n",
              "      <td>0.0</td>\n",
              "    </tr>\n",
              "    <tr>\n",
              "      <th>2920</th>\n",
              "      <td>2.9</td>\n",
              "      <td>-1.6</td>\n",
              "      <td>7.1</td>\n",
              "      <td>0.6</td>\n",
              "    </tr>\n",
              "    <tr>\n",
              "      <th>2921</th>\n",
              "      <td>2.1</td>\n",
              "      <td>-2.0</td>\n",
              "      <td>5.8</td>\n",
              "      <td>0.4</td>\n",
              "    </tr>\n",
              "  </tbody>\n",
              "</table>\n",
              "<p>2922 rows × 4 columns</p>\n",
              "</div>"
            ],
            "text/plain": [
              "      avgTemp  minTemp  maxTemp  rainFall\n",
              "0        -4.9    -11.0      0.9       0.0\n",
              "1        -3.1     -5.5      5.5       0.8\n",
              "2        -2.9     -6.9      1.4       0.0\n",
              "3        -1.8     -5.1      2.2       5.9\n",
              "4        -5.2     -8.7     -1.8       0.7\n",
              "...       ...      ...      ...       ...\n",
              "2917     -3.9     -8.0      0.7       0.0\n",
              "2918     -1.5     -6.9      3.7       0.0\n",
              "2919      2.9     -2.1      8.0       0.0\n",
              "2920      2.9     -1.6      7.1       0.6\n",
              "2921      2.1     -2.0      5.8       0.4\n",
              "\n",
              "[2922 rows x 4 columns]"
            ]
          },
          "metadata": {
            "tags": []
          },
          "execution_count": 70
        }
      ]
    },
    {
      "cell_type": "code",
      "metadata": {
        "id": "Z-k3yK5wbejO"
      },
      "source": [
        "with tf.device('/device:GPU:0'):\n",
        "  model = Sequential()\n",
        "  model.add(Dense(30,input_dim=4,activation='relu'))\n",
        "  model.add(Dense(6,activation='relu'))\n",
        "  model.add(Dense(1))\n",
        "  optim = optimizers.Adam(learning_rate=0.0025)\n",
        "\n",
        "  model.compile(optimizer=optim,loss='mse')\n",
        "  model.fit(x_data,y_data,batch_size=16,epochs=120)"
      ],
      "execution_count": null,
      "outputs": []
    },
    {
      "cell_type": "code",
      "metadata": {
        "id": "52Mvxldjb6oa",
        "outputId": "35064c6d-48d7-4a77-bec2-11c2d9bb7175",
        "colab": {
          "base_uri": "https://localhost:8080/",
          "height": 235
        }
      },
      "source": [
        "test_data= pd.read_csv(\"test_cabbage_price.csv\")\n",
        "test_data = test_data.iloc[:,1:]\n",
        "test_data"
      ],
      "execution_count": 72,
      "outputs": [
        {
          "output_type": "execute_result",
          "data": {
            "text/html": [
              "<div>\n",
              "<style scoped>\n",
              "    .dataframe tbody tr th:only-of-type {\n",
              "        vertical-align: middle;\n",
              "    }\n",
              "\n",
              "    .dataframe tbody tr th {\n",
              "        vertical-align: top;\n",
              "    }\n",
              "\n",
              "    .dataframe thead th {\n",
              "        text-align: right;\n",
              "    }\n",
              "</style>\n",
              "<table border=\"1\" class=\"dataframe\">\n",
              "  <thead>\n",
              "    <tr style=\"text-align: right;\">\n",
              "      <th></th>\n",
              "      <th>avgTemp</th>\n",
              "      <th>minTemp</th>\n",
              "      <th>maxTemp</th>\n",
              "      <th>rainFall</th>\n",
              "    </tr>\n",
              "  </thead>\n",
              "  <tbody>\n",
              "    <tr>\n",
              "      <th>0</th>\n",
              "      <td>13.5</td>\n",
              "      <td>8.0</td>\n",
              "      <td>19.2</td>\n",
              "      <td>2.6</td>\n",
              "    </tr>\n",
              "    <tr>\n",
              "      <th>1</th>\n",
              "      <td>1.1</td>\n",
              "      <td>-3.0</td>\n",
              "      <td>9.5</td>\n",
              "      <td>0.8</td>\n",
              "    </tr>\n",
              "    <tr>\n",
              "      <th>2</th>\n",
              "      <td>12.0</td>\n",
              "      <td>5.1</td>\n",
              "      <td>19.6</td>\n",
              "      <td>0.0</td>\n",
              "    </tr>\n",
              "    <tr>\n",
              "      <th>3</th>\n",
              "      <td>16.6</td>\n",
              "      <td>11.9</td>\n",
              "      <td>22.5</td>\n",
              "      <td>0.1</td>\n",
              "    </tr>\n",
              "    <tr>\n",
              "      <th>4</th>\n",
              "      <td>22.4</td>\n",
              "      <td>17.8</td>\n",
              "      <td>27.4</td>\n",
              "      <td>0.5</td>\n",
              "    </tr>\n",
              "    <tr>\n",
              "      <th>5</th>\n",
              "      <td>18.8</td>\n",
              "      <td>13.9</td>\n",
              "      <td>24.4</td>\n",
              "      <td>0.0</td>\n",
              "    </tr>\n",
              "  </tbody>\n",
              "</table>\n",
              "</div>"
            ],
            "text/plain": [
              "   avgTemp  minTemp  maxTemp  rainFall\n",
              "0     13.5      8.0     19.2       2.6\n",
              "1      1.1     -3.0      9.5       0.8\n",
              "2     12.0      5.1     19.6       0.0\n",
              "3     16.6     11.9     22.5       0.1\n",
              "4     22.4     17.8     27.4       0.5\n",
              "5     18.8     13.9     24.4       0.0"
            ]
          },
          "metadata": {
            "tags": []
          },
          "execution_count": 72
        }
      ]
    },
    {
      "cell_type": "code",
      "metadata": {
        "id": "BGydqcuxcbAY"
      },
      "source": [
        "test_y_data = model.predict(test_data)"
      ],
      "execution_count": 73,
      "outputs": []
    },
    {
      "cell_type": "code",
      "metadata": {
        "id": "H-NrT4UZfQC7",
        "outputId": "a0c02d8c-3bce-42e5-f16c-fbea8bbc30d3",
        "colab": {
          "base_uri": "https://localhost:8080/",
          "height": 235
        }
      },
      "source": [
        "result = pd.DataFrame({'Id':range(0,6),'Expected':test_y_data.flatten()})\n",
        "result"
      ],
      "execution_count": 76,
      "outputs": [
        {
          "output_type": "execute_result",
          "data": {
            "text/html": [
              "<div>\n",
              "<style scoped>\n",
              "    .dataframe tbody tr th:only-of-type {\n",
              "        vertical-align: middle;\n",
              "    }\n",
              "\n",
              "    .dataframe tbody tr th {\n",
              "        vertical-align: top;\n",
              "    }\n",
              "\n",
              "    .dataframe thead th {\n",
              "        text-align: right;\n",
              "    }\n",
              "</style>\n",
              "<table border=\"1\" class=\"dataframe\">\n",
              "  <thead>\n",
              "    <tr style=\"text-align: right;\">\n",
              "      <th></th>\n",
              "      <th>Id</th>\n",
              "      <th>Expected</th>\n",
              "    </tr>\n",
              "  </thead>\n",
              "  <tbody>\n",
              "    <tr>\n",
              "      <th>0</th>\n",
              "      <td>0</td>\n",
              "      <td>3291.855713</td>\n",
              "    </tr>\n",
              "    <tr>\n",
              "      <th>1</th>\n",
              "      <td>1</td>\n",
              "      <td>3195.288330</td>\n",
              "    </tr>\n",
              "    <tr>\n",
              "      <th>2</th>\n",
              "      <td>2</td>\n",
              "      <td>3360.026123</td>\n",
              "    </tr>\n",
              "    <tr>\n",
              "      <th>3</th>\n",
              "      <td>3</td>\n",
              "      <td>3434.052002</td>\n",
              "    </tr>\n",
              "    <tr>\n",
              "      <th>4</th>\n",
              "      <td>4</td>\n",
              "      <td>3615.235840</td>\n",
              "    </tr>\n",
              "    <tr>\n",
              "      <th>5</th>\n",
              "      <td>5</td>\n",
              "      <td>3501.860840</td>\n",
              "    </tr>\n",
              "  </tbody>\n",
              "</table>\n",
              "</div>"
            ],
            "text/plain": [
              "   Id     Expected\n",
              "0   0  3291.855713\n",
              "1   1  3195.288330\n",
              "2   2  3360.026123\n",
              "3   3  3434.052002\n",
              "4   4  3615.235840\n",
              "5   5  3501.860840"
            ]
          },
          "metadata": {
            "tags": []
          },
          "execution_count": 76
        }
      ]
    },
    {
      "cell_type": "code",
      "metadata": {
        "id": "JAbWtMnPiwno"
      },
      "source": [
        "result.to_csv(\"result.csv\",index=False,header=True)"
      ],
      "execution_count": 78,
      "outputs": []
    },
    {
      "cell_type": "code",
      "metadata": {
        "id": "lPPB-nL4js5h",
        "outputId": "7b621ad7-49e9-495f-bf7e-8641003a41e3",
        "colab": {
          "base_uri": "https://localhost:8080/",
          "height": 71
        }
      },
      "source": [
        "!kaggle competitions submit -c regression-cabbage-price -f result.csv -m \"First submit\""
      ],
      "execution_count": 80,
      "outputs": [
        {
          "output_type": "stream",
          "text": [
            "Warning: Looks like you're using an outdated API Version, please consider updating (server 1.5.6 / client 1.5.4)\n",
            "100% 83.0/83.0 [00:02<00:00, 28.4B/s]\n",
            "Successfully submitted to Regression : Cabbage price"
          ],
          "name": "stdout"
        }
      ]
    }
  ]
}